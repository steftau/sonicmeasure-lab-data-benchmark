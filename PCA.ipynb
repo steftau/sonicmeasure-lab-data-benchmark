{
 "cells": [
  {
   "cell_type": "markdown",
   "id": "760f54a3-9068-4b23-a964-58e2a6065dbe",
   "metadata": {},
   "source": [
    "Skalieren der Daten"
   ]
  },
  {
   "cell_type": "code",
   "execution_count": null,
   "id": "79c46152-eb42-4538-97b9-81da8b4118ed",
   "metadata": {},
   "outputs": [],
   "source": [
    "from sklearn.preprocessing import StandardScaler\n",
    "#Declaration of the features \n",
    "\n",
    "x_1 = df[features_PCA].copy()\n",
    "\n",
    "# Define the scaler \n",
    "scaler_PCA = StandardScaler().fit(x_1)\n",
    "# Scale the dataset\n",
    "x_1 = pd.DataFrame(scaler_PCA.transform(x_1), columns=x_1.columns) #we need a df instead of an array for further processing\n",
    "x_1"
   ]
  },
  {
   "cell_type": "markdown",
   "id": "62e12348-18c5-4614-801a-1ca2c44a999f",
   "metadata": {},
   "source": [
    "PCA durchführen (erstmal ein höheres n_components wählen und dann nach Betrachtung auf sinnvolles Maß begrenzen)"
   ]
  },
  {
   "cell_type": "code",
   "execution_count": null,
   "id": "31ab6986-7adb-4d3b-8a8f-80d79133ff95",
   "metadata": {},
   "outputs": [],
   "source": [
    "from sklearn.decomposition import PCA\n",
    "n_components = 5\n",
    "pca = PCA(n_components=n_components)\n",
    "principalComponents = pca.fit_transform(x_1)\n",
    "#principalDf = pd.DataFrame(data = principalComponents\n",
    "#             , columns = ['principal component 1', 'principal component 2', 'principal component 3', ])\n",
    "#principalDf\n",
    "pca.get_covariance()"
   ]
  },
  {
   "cell_type": "code",
   "execution_count": null,
   "id": "05a0d0b8-9e41-48f2-a93c-c403adcc67ca",
   "metadata": {},
   "outputs": [],
   "source": [
    "explained_variance=pca.explained_variance_ratio_\n",
    "explained_variance"
   ]
  },
  {
   "cell_type": "markdown",
   "id": "5d16d9fd-a694-4670-9dee-08aac7c436c5",
   "metadata": {},
   "source": [
    "PCA plot"
   ]
  },
  {
   "cell_type": "code",
   "execution_count": null,
   "id": "20674459-f95c-449d-8de3-404bebe0cd64",
   "metadata": {},
   "outputs": [],
   "source": [
    "plt.figure(figsize=(15, 6))\n",
    "\n",
    "plt.bar(range(n_components), explained_variance, alpha=1, align='center',\n",
    "        label='individual explained variance')\n",
    "plt.ylabel('Explained variance ratio')\n",
    "plt.xlabel('Principal components')\n",
    "plt.legend(loc='best')\n",
    "plt.tight_layout()"
   ]
  },
  {
   "cell_type": "markdown",
   "id": "abcae2b3-a61e-4275-a9c3-f00b3f96149e",
   "metadata": {},
   "source": [
    "df mit Hauptkomponenten und Target erzeugen"
   ]
  },
  {
   "cell_type": "code",
   "execution_count": null,
   "id": "9f7004b4-858d-4003-b631-ee0a7d73c13c",
   "metadata": {},
   "outputs": [],
   "source": [
    "PCAcomp = pd.DataFrame(principalComponents)\n",
    "PC_dict = {}\n",
    "for idx,v in enumerate(PCAcomp):\n",
    "    PC_dict[idx] = 'PC '+str(idx+1)\n",
    "PCAcomp.rename(columns=PC_dict, inplace=True)\n",
    "PCAcomp['concentration'] = y_1.values #Target einfügen ins df\n",
    "PCAcomp"
   ]
  },
  {
   "cell_type": "markdown",
   "id": "79816cbf-714e-4c62-b612-9f2034b4590b",
   "metadata": {},
   "source": [
    "Pairplot der Hauptkomponenten gegeneinander"
   ]
  },
  {
   "cell_type": "code",
   "execution_count": null,
   "id": "e86e611e-1bb7-4212-a065-93182bd84bbb",
   "metadata": {},
   "outputs": [],
   "source": [
    "fig0 = sns.pairplot(PCAcomp, hue='concentration', palette = 'muted', plot_kws = {'alpha': 0.6, 's': 80, 'edgecolor': 'k'}) \n",
    "plt.show(fig0)"
   ]
  },
  {
   "cell_type": "markdown",
   "id": "5b5d1893-4c47-4b12-8259-ffaa794bcfa0",
   "metadata": {},
   "source": [
    "### Effect of features on the principle components\n",
    "\n",
    "The components_ attribute provides principal axes in the feature space, representing the directions of maximum variance in the data. \n",
    "\n",
    "This means, we can see influence on each of the components by features. Reference: Ostwald Prasad\n"
   ]
  },
  {
   "cell_type": "code",
   "execution_count": null,
   "id": "4cee6281-3092-4b37-b2ce-68a235b946e4",
   "metadata": {},
   "outputs": [],
   "source": [
    "plt.figure(figsize=(10, 10))\n",
    "sns.heatmap(pca.components_,\n",
    "                 cmap='RdBu_r',\n",
    "                 yticklabels=[ \"PCA\"+str(x) for x in range(1,pca.n_components_+1)],\n",
    "                 xticklabels=list(x_1.columns),\n",
    "                 annot= True,\n",
    "                 cbar_kws={\"orientation\": \"horizontal\"})\n",
    "plt.tight_layout()\n"
   ]
  },
  {
   "cell_type": "markdown",
   "id": "396c4cb0-d899-4f68-9ab5-4de850fd3eb8",
   "metadata": {},
   "source": [
    "### Correlation features DF"
   ]
  },
  {
   "cell_type": "code",
   "execution_count": null,
   "id": "f5506349-d7c7-464b-93f7-b3f730492bfc",
   "metadata": {
    "tags": []
   },
   "outputs": [],
   "source": [
    "corr = df[features_PCA].corr()\n",
    "plt.subplots(figsize=(15,10))\n",
    "sns.heatmap(corr, xticklabels = corr.columns.values,\n",
    "           yticklabels=corr.columns.values, annot = True)"
   ]
  },
  {
   "cell_type": "code",
   "execution_count": null,
   "id": "767f2033-f47f-40b9-9f60-146866be9890",
   "metadata": {},
   "outputs": [],
   "source": []
  },
  {
   "cell_type": "code",
   "execution_count": null,
   "id": "8474ac02-c144-4ab0-b345-4b1fe2166ae8",
   "metadata": {},
   "outputs": [],
   "source": []
  },
  {
   "cell_type": "code",
   "execution_count": null,
   "id": "8a024948-a88d-40a6-b4eb-d6f24460a928",
   "metadata": {},
   "outputs": [],
   "source": []
  }
 ],
 "metadata": {
  "kernelspec": {
   "display_name": "Python 3",
   "language": "python",
   "name": "python3"
  },
  "language_info": {
   "codemirror_mode": {
    "name": "ipython",
    "version": 3
   },
   "file_extension": ".py",
   "mimetype": "text/x-python",
   "name": "python",
   "nbconvert_exporter": "python",
   "pygments_lexer": "ipython3",
   "version": "3.8.10"
  }
 },
 "nbformat": 4,
 "nbformat_minor": 5
}
